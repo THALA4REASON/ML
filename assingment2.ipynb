{
 "cells": [
  {
   "cell_type": "code",
   "execution_count": null,
   "id": "92afaf6f-2a64-496c-9743-f63bd091c7fd",
   "metadata": {},
   "outputs": [],
   "source": [
    "import pandas as pd\n",
    " df = pd.read_csv('/content/covid.csv')\n",
    "df.head()"
   ]
  },
  {
   "cell_type": "code",
   "execution_count": null,
   "id": "c12f924a-afeb-4846-8398-45c1c0946d2a",
   "metadata": {},
   "outputs": [],
   "source": [
    "X = df['Actual']\n",
    "Y = df['Predicted']"
   ]
  },
  {
   "cell_type": "code",
   "execution_count": null,
   "id": "d3ea0da2-66c0-4638-98e8-5fe4757f57b3",
   "metadata": {},
   "outputs": [],
   "source": [
    "from sklearn.metrics import accuracy_score\n",
    "accuracy = accuracy_score(X,Y)\n",
    "print(\"Accuracy Score is: \",accuracy)\n",
    "from sklearn.metrics import precision_score\n",
    "precision_1 = precision_score(X,Y)\n",
    "print(\"Precision is: \",precision_1)\n",
    "from sklearn.metrics import recall_score\n",
    "recall_1 = recall_score(X,Y)\n",
    "print(\"Recall Score: \",recall_1)\n",
    "from sklearn.metrics import f1_score\n",
    "f1_1 = f1_score(X,Y)\n",
    "print(\"F1 Score is: \",f1_1)"
   ]
  },
  {
   "cell_type": "code",
   "execution_count": null,
   "id": "c5db0677-773e-4ca4-99f5-733971a1bcb0",
   "metadata": {},
   "outputs": [],
   "source": [
    "import seaborn as sns\n",
    "import matplotlib.pyplot as plt\n",
    "sns.heatmap(confusion_matrix(X,Y), annot=True)"
   ]
  }
 ],
 "metadata": {
  "kernelspec": {
   "display_name": "Python 3 (ipykernel)",
   "language": "python",
   "name": "python3"
  },
  "language_info": {
   "codemirror_mode": {
    "name": "ipython",
    "version": 3
   },
   "file_extension": ".py",
   "mimetype": "text/x-python",
   "name": "python",
   "nbconvert_exporter": "python",
   "pygments_lexer": "ipython3",
   "version": "3.12.4"
  }
 },
 "nbformat": 4,
 "nbformat_minor": 5
}

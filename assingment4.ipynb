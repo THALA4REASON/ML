{
 "cells": [
  {
   "cell_type": "code",
   "execution_count": null,
   "id": "4b850b0b-3063-441c-b335-cd45f144a273",
   "metadata": {},
   "outputs": [],
   "source": [
    "import pandas as pd\n",
    "df = pd.read_csv('/content/Admission_Predict_Ver1.1.csv')"
   ]
  },
  {
   "cell_type": "code",
   "execution_count": null,
   "id": "4205b0ef-502c-43b3-b95c-254fbbb12f09",
   "metadata": {},
   "outputs": [],
   "source": [
    "df.shape"
   ]
  },
  {
   "cell_type": "code",
   "execution_count": null,
   "id": "b4ea12f7-faa7-4eae-9c4c-33cdf83f9e1f",
   "metadata": {},
   "outputs": [],
   "source": [
    "for i in range(500):\n",
    "  if(df.iloc[i,8]>0.71):\n",
    "      df.iloc[i,8] = 1\n",
    "  else:\n",
    "      df.iloc[i,8] = 0"
   ]
  },
  {
   "cell_type": "code",
   "execution_count": null,
   "id": "e324bc80-fb6b-4597-9625-eec50e23c09f",
   "metadata": {},
   "outputs": [],
   "source": [
    "df.head()"
   ]
  },
  {
   "cell_type": "code",
   "execution_count": null,
   "id": "01aa2866-e069-4e39-8313-a522feca88f8",
   "metadata": {},
   "outputs": [],
   "source": [
    "df['Chance of Admit '].value_counts()"
   ]
  },
  {
   "cell_type": "code",
   "execution_count": null,
   "id": "fb17dd23-82f0-4819-a563-c10f8c38fe43",
   "metadata": {},
   "outputs": [],
   "source": [
    "df.isnull().sum()"
   ]
  },
  {
   "cell_type": "code",
   "execution_count": null,
   "id": "8118e082-1a8c-4eb9-b1b5-5f8cfa5a70ad",
   "metadata": {},
   "outputs": [],
   "source": [
    "X = df.iloc[:, 1:-1]\n",
    "Y = df.iloc[:, -1]"
   ]
  },
  {
   "cell_type": "code",
   "execution_count": null,
   "id": "507b3f6f-30ee-42c5-95af-cc24546dec40",
   "metadata": {},
   "outputs": [],
   "source": [
    "from sklearn.tree import DecisionTreeClassifier\n",
    "from sklearn.model_selection import train_test_split\n",
    "X_train, X_test, Y_train, Y_test = train_test_split(X,Y, test_size = 0.2, random_state = 42)"
   ]
  },
  {
   "cell_type": "code",
   "execution_count": null,
   "id": "db79cde1-323b-478d-a33a-e25176e23584",
   "metadata": {},
   "outputs": [],
   "source": [
    "from sklearn.preprocessing import StandardScaler\n",
    "sc = StandardScaler()\n",
    "X_train =sc.fit_transform(X_train)\n",
    "X_test = sc.transform(X_test)"
   ]
  },
  {
   "cell_type": "code",
   "execution_count": null,
   "id": "5c1b64aa-d88e-4532-9e94-22b9edffc471",
   "metadata": {},
   "outputs": [],
   "source": [
    "model = DecisionTreeClassifier()\n",
    "model.fit(X_train, Y_train)\n",
    "\n",
    "pred = model.predict(X_test)"
   ]
  },
  {
   "cell_type": "code",
   "execution_count": null,
   "id": "2d788d02-5555-4e2f-b1ff-f679d0fc56ac",
   "metadata": {},
   "outputs": [],
   "source": [
    "from sklearn.metrics import accuracy_score, confusion_matrix, classification_report, ConfusionMatrixDisplay"
   ]
  },
  {
   "cell_type": "code",
   "execution_count": null,
   "id": "fbc3fb75-a58b-44bd-9bd6-643be178949b",
   "metadata": {},
   "outputs": [],
   "source": [
    "print('AccuracyScore', accuracy_score(Y_test, pred))\n",
    "print(classification_report(Y_test, pred))\n",
    "ConfusionMatrixDisplay(confusion_matrix(Y_test, pred)).plot()"
   ]
  },
  {
   "cell_type": "code",
   "execution_count": null,
   "id": "eeb5a9bd-f94d-4929-b7cf-3d39e2f43a7c",
   "metadata": {},
   "outputs": [],
   "source": []
  }
 ],
 "metadata": {
  "kernelspec": {
   "display_name": "Python 3 (ipykernel)",
   "language": "python",
   "name": "python3"
  },
  "language_info": {
   "codemirror_mode": {
    "name": "ipython",
    "version": 3
   },
   "file_extension": ".py",
   "mimetype": "text/x-python",
   "name": "python",
   "nbconvert_exporter": "python",
   "pygments_lexer": "ipython3",
   "version": "3.12.4"
  }
 },
 "nbformat": 4,
 "nbformat_minor": 5
}

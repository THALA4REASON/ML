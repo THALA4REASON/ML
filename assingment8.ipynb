{
 "cells": [
  {
   "cell_type": "code",
   "execution_count": null,
   "id": "e07d5131-2ab8-470c-8175-aa1016fe5b63",
   "metadata": {},
   "outputs": [],
   "source": [
    "import pandas as pd\n",
    "from sklearn.model_selection import train_test_split\n",
    "df = pd.read_csv('/content/lithium-ion batteries.csv')"
   ]
  },
  {
   "cell_type": "code",
   "execution_count": null,
   "id": "53d3191d-8c2f-45f5-8d32-b85999eec21e",
   "metadata": {},
   "outputs": [],
   "source": [
    "df.head()"
   ]
  },
  {
   "cell_type": "code",
   "execution_count": null,
   "id": "e8574a91-11b2-45b1-b57d-c8fa3de8cc94",
   "metadata": {},
   "outputs": [],
   "source": [
    "from sklearn.preprocessing import LabelEncoder\n",
    "le = LabelEncoder()\n",
    "df['Crystal System'] = le.fit_transform(df['Crystal System'])\n",
    "df['Has Bandstructure'] = le.fit_transform(df['Has Bandstructure'])"
   ]
  },
  {
   "cell_type": "code",
   "execution_count": null,
   "id": "1cf6b2ed-3950-4224-b3b5-c80db50564b0",
   "metadata": {},
   "outputs": [],
   "source": [
    "X = df.iloc[:, 3:-1]\n",
    "Y = df.iloc[:, -1]"
   ]
  },
  {
   "cell_type": "code",
   "execution_count": null,
   "id": "fa9f87da-1e82-455f-ac14-2dba3ec2121d",
   "metadata": {},
   "outputs": [],
   "source": [
    "X_train, X_test, Y_train, Y_test = train_test_split(X,Y, test_size = 0.2, random_state = 42)"
   ]
  },
  {
   "cell_type": "code",
   "execution_count": null,
   "id": "f8ea41a6-f184-43c3-a29f-b2d52ae3e00d",
   "metadata": {},
   "outputs": [],
   "source": [
    "from sklearn.preprocessing import StandardScaler\n",
    "sc = StandardScaler()\n",
    "X_train = sc.fit_transform(X_train)\n",
    "X_test = sc.transform(X_test)"
   ]
  },
  {
   "cell_type": "code",
   "execution_count": null,
   "id": "caf68ec9-7d2c-44ac-aff8-1e06c23ae13c",
   "metadata": {},
   "outputs": [],
   "source": [
    "import tensorflow as tf"
   ]
  },
  {
   "cell_type": "code",
   "execution_count": null,
   "id": "af6a0bcd-8c3f-43df-a4ff-2529a380b9dd",
   "metadata": {},
   "outputs": [],
   "source": [
    "ann = tf.keras.models.Sequential()"
   ]
  },
  {
   "cell_type": "code",
   "execution_count": null,
   "id": "1b366e90-de91-4514-bf56-9aa367cbd830",
   "metadata": {},
   "outputs": [],
   "source": [
    "tf.__version__"
   ]
  },
  {
   "cell_type": "code",
   "execution_count": null,
   "id": "e47a0b69-013f-4ed8-9484-2aed29ab0601",
   "metadata": {},
   "outputs": [],
   "source": [
    "ann = tf.keras.models.Sequential()\n",
    "ann.add(tf.keras.layers.Dense(units = 64, activation = 'relu',input_shape = (X.shape[1],)))\n",
    "ann.add(tf.keras.layers.Dense(units = 32, activation = 'relu'))\n",
    "ann.add(tf.keras.layers.Dense(units = 32, activation = 'relu'))\n",
    "ann.add(tf.keras.layers.Dense(units = 3, activation = 'softmax'))\n",
    "ann.compile(optimizer = 'adam', loss = 'sparse_categorical_crossentropy', metrics = ['accuracy'])\n",
    "ann.fit(X_train, Y_train, batch_size = 32, epochs = 100)"
   ]
  },
  {
   "cell_type": "code",
   "execution_count": null,
   "id": "b1b7c022-6119-4587-8be4-2b3c30efac43",
   "metadata": {},
   "outputs": [],
   "source": [
    "import numpy as np\n",
    "pred= ann.predict(X_test)\n",
    "Y_pred_classes = np.argmax(pred, axis=1)"
   ]
  },
  {
   "cell_type": "code",
   "execution_count": null,
   "id": "bb377f5a-a85e-446b-84cb-e6bfb5fd646b",
   "metadata": {},
   "outputs": [],
   "source": [
    "print(Y_pred_classes)"
   ]
  }
 ],
 "metadata": {
  "kernelspec": {
   "display_name": "Python 3 (ipykernel)",
   "language": "python",
   "name": "python3"
  },
  "language_info": {
   "codemirror_mode": {
    "name": "ipython",
    "version": 3
   },
   "file_extension": ".py",
   "mimetype": "text/x-python",
   "name": "python",
   "nbconvert_exporter": "python",
   "pygments_lexer": "ipython3",
   "version": "3.12.4"
  }
 },
 "nbformat": 4,
 "nbformat_minor": 5
}

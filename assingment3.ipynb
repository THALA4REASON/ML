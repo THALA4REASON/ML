{
 "cells": [
  {
   "cell_type": "code",
   "execution_count": null,
   "id": "5e518ac9-3e41-4852-9efe-37d2181606a8",
   "metadata": {},
   "outputs": [],
   "source": [
    "import pandas as pd\n",
    "df = pd.read_csv('/content/temperatures.csv')"
   ]
  },
  {
   "cell_type": "code",
   "execution_count": null,
   "id": "8d825bcc-e087-498d-8c03-f5632db8f880",
   "metadata": {},
   "outputs": [],
   "source": [
    "df.head()"
   ]
  },
  {
   "cell_type": "code",
   "execution_count": null,
   "id": "8e0c19ac-2ded-4120-9c44-36c5feeb4f29",
   "metadata": {},
   "outputs": [],
   "source": [
    "df.shape"
   ]
  },
  {
   "cell_type": "code",
   "execution_count": null,
   "id": "487cd4d8-9248-474a-9569-6ea5b3bbd68e",
   "metadata": {},
   "outputs": [],
   "source": [
    "from matplotlib import pyplot as plt\n",
    "import seaborn as sns\n",
    "year = df.iloc[:, 0]\n",
    "print(year)\n",
    "y_axis = df.iloc[:, 13]\n",
    "# plt.figure(figsize=(10,10))\n",
    "plt.xlabel('Year')\n",
    "plt.ylabel('Annual Rainfall')\n",
    "sns.scatterplot(x = year, y = y_axis)\n",
    "plt.show()"
   ]
  },
  {
   "cell_type": "code",
   "execution_count": null,
   "id": "da1ea128-ce89-4cb5-ac45-2362466ac8e6",
   "metadata": {},
   "outputs": [],
   "source": [
    "plt.figure(figsize=(10,10))\n",
    "cor = df.corr()\n",
    "sns.heatmap(data=cor, annot = True)\n",
    "plt.show()"
   ]
  },
  {
   "cell_type": "code",
   "execution_count": null,
   "id": "e209158c-8e7c-4f5f-ab6d-1e195b0ed8bf",
   "metadata": {},
   "outputs": [],
   "source": [
    "\n",
    "from sklearn.model_selection import train_test_split\n",
    "import numpy as np\n",
    "from sklearn.linear_model import LinearRegression\n",
    "from sklearn.metrics import accuracy_score,mean_squared_error\n",
    "x1 = df['YEAR']\n",
    "x_reshaped = np.reshape(x1, (-1,1))\n",
    "y = df.iloc[:, 13]\n",
    "X_train, X_test, Y_train, Y_test = train_test_split(x_reshaped, y, test_size = 0.2,  random_state = 2)\n",
    "model = LinearRegression()\n",
    "model.fit(X_train, Y_train)\n",
    "\n",
    "prediction = model.predict(X_test)"
   ]
  },
  {
   "cell_type": "code",
   "execution_count": null,
   "id": "8cd5c1d3-3a84-42d1-8035-179d0c9cff4c",
   "metadata": {},
   "outputs": [],
   "source": [
    "import matplotlib.pyplot as plt\n",
    "plt.figure(figsize =(10,6))\n",
    "\n",
    "plt.scatter(X_test, Y_test, c = 'b')\n",
    "plt.plot(X_test, prediction, c = 'r')\n",
    "plt.xlabel('Year')\n",
    "plt.ylabel('Annual Rainfall')\n",
    "plt.title('Year Vs Annual Rainfall')\n",
    "plt.show()\n",
    "\n",
    "from sklearn.metrics import mean_squared_error,r2_score, mean_absolute_error\n",
    "mse = mean_squared_error(Y_test, prediction)\n",
    "print(\"MSE \" , mse)\n",
    "print(\"R2 SCORE \",r2_score(Y_test, prediction))\n",
    "print(\"MAE \",mean_absolute_error(Y_test, prediction))"
   ]
  },
  {
   "cell_type": "code",
   "execution_count": null,
   "id": "bfd179cf-4c59-488e-a6db-19aa49602178",
   "metadata": {},
   "outputs": [],
   "source": [
    "x2 = df.iloc[:,0:13]\n",
    "y2 = df.iloc[:, 13]\n",
    "X_train1, X_test1, Y_train1, Y_test1 = train_test_split(x2, y2, test_size = 0.2,  random_state = 2)\n",
    "model = LinearRegression()\n",
    "model.fit(X_train1, Y_train1)\n",
    "\n",
    "prediction_2 = model.predict(X_test1)"
   ]
  },
  {
   "cell_type": "code",
   "execution_count": null,
   "id": "113c9ef6-3615-4a71-ac35-881c6af51f75",
   "metadata": {},
   "outputs": [],
   "source": [
    "from sklearn.metrics import mean_squared_error,r2_score, mean_absolute_error\n",
    "mse = mean_squared_error(Y_test, prediction_2)\n",
    "print(\"MSE \",mse)\n",
    "print(\"R2 SCORE\", r2_score(Y_test1, prediction_2))\n",
    "print(\"MAE \",mean_absolute_error(Y_test1, prediction_2))"
   ]
  }
 ],
 "metadata": {
  "kernelspec": {
   "display_name": "Python 3 (ipykernel)",
   "language": "python",
   "name": "python3"
  },
  "language_info": {
   "codemirror_mode": {
    "name": "ipython",
    "version": 3
   },
   "file_extension": ".py",
   "mimetype": "text/x-python",
   "name": "python",
   "nbconvert_exporter": "python",
   "pygments_lexer": "ipython3",
   "version": "3.12.4"
  }
 },
 "nbformat": 4,
 "nbformat_minor": 5
}
